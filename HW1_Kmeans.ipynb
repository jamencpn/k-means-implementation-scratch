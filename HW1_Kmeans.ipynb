{
 "cells": [
  {
   "cell_type": "markdown",
   "metadata": {},
   "source": [
    "# Clustering"
   ]
  },
  {
   "cell_type": "code",
   "execution_count": 21,
   "metadata": {},
   "outputs": [
    {
     "data": {
      "image/png": "[encoded data removed]",
      "text/plain": [
       "<Figure size 432x288 with 1 Axes>"
      ]
     },
     "metadata": {
      "needs_background": "light"
     },
     "output_type": "display_data"
    }
   ],
   "source": [
    "import matplotlib.pyplot as plt\n",
    "import numpy as np\n",
    "\n",
    "color = [\"red\",\"green\",\"orange\",\"pink\",\"purple\",\"black\"]\n",
    "points = np.array([[1,2],[3,3],[2,2],[8,8],[7,7],[-3,-3],[-2,-4],[-7,-7]],dtype=float)\n",
    "for i in points:\n",
    "    plt.scatter(i[0],i[1],color='blue')\n",
    "\n",
    "plt.xlabel(\"x\")\n",
    "plt.ylabel(\"y\")\n",
    "plt.show()"
   ]
  },
  {
   "cell_type": "code",
   "execution_count": 13,
   "metadata": {},
   "outputs": [],
   "source": [
    "import pandas as pd\n",
    "import math\n",
    "\n",
    "def k_means_grouping(points,clusters,iteration):\n",
    "    for i in range(iteration):\n",
    "        df = pd.DataFrame()\n",
    "        for c in range(len(clusters)):\n",
    "            c_x = clusters[c][0]\n",
    "            c_y = clusters[c][1]\n",
    "            for p in range(len(points)):\n",
    "                x = points[p][0]\n",
    "                y = points[p][1]\n",
    "                df.loc[c,p] = math.sqrt((c_x - x)**2 + (c_y - y)**2)\n",
    "        # update cluster\n",
    "        group = []\n",
    "        for j in df:\n",
    "            group.append(df[j].idxmin())\n",
    "        print(f\"point group : {group}\")\n",
    "        for c in range(len(clusters)):\n",
    "            csum_x = 0\n",
    "            csum_y = 0\n",
    "            sum = 0\n",
    "            for g in range(len(group)):\n",
    "                if c == group[g]:\n",
    "                    sum += 1\n",
    "                    csum_x += points[g][0]\n",
    "                    csum_y += points[g][1]\n",
    "            if sum != 0:\n",
    "                c_x = csum_x/sum\n",
    "                c_y = csum_y/sum\n",
    "                clusters[c][0] = c_x\n",
    "                clusters[c][1] = c_y\n",
    "            else:\n",
    "                continue\n",
    "        print(clusters)\n",
    "            \n",
    "    return clusters, group"
   ]
  },
  {
   "cell_type": "markdown",
   "metadata": {},
   "source": [
    "# T1"
   ]
  },
  {
   "cell_type": "code",
   "execution_count": 22,
   "metadata": {},
   "outputs": [
    {
     "name": "stdout",
     "output_type": "stream",
     "text": [
      "point group : [1, 0, 1, 0, 0, 2, 2, 2]\n",
      "[[ 6.          6.        ]\n",
      " [ 1.5         2.        ]\n",
      " [-4.         -4.66666667]]\n",
      "point group : [1, 1, 1, 0, 0, 2, 2, 2]\n",
      "[[ 7.5         7.5       ]\n",
      " [ 2.          2.33333333]\n",
      " [-4.         -4.66666667]]\n",
      "point group : [1, 1, 1, 0, 0, 2, 2, 2]\n",
      "[[ 7.5         7.5       ]\n",
      " [ 2.          2.33333333]\n",
      " [-4.         -4.66666667]]\n",
      "point group : [1, 1, 1, 0, 0, 2, 2, 2]\n",
      "[[ 7.5         7.5       ]\n",
      " [ 2.          2.33333333]\n",
      " [-4.         -4.66666667]]\n",
      "point group : [1, 1, 1, 0, 0, 2, 2, 2]\n",
      "[[ 7.5         7.5       ]\n",
      " [ 2.          2.33333333]\n",
      " [-4.         -4.66666667]]\n",
      "Compared between initial and iteration 5\n"
     ]
    },
    {
     "data": {
      "text/plain": [
       "Text(0, 0.5, 'y')"
      ]
     },
     "execution_count": 22,
     "metadata": {},
     "output_type": "execute_result"
    },
    {
     "data": {
      "image/png": "[encoded data removed]",
      "text/plain": [
       "<Figure size 432x288 with 2 Axes>"
      ]
     },
     "metadata": {
      "needs_background": "light"
     },
     "output_type": "display_data"
    }
   ],
   "source": [
    "import copy\n",
    "    \n",
    "iteration = 5\n",
    "clusters = np.array([[3,3],[2,2],[-3,-3]],dtype=float)\n",
    "clusters_init = copy.deepcopy(clusters)\n",
    "\n",
    "clusters_res, group = k_means_grouping(points,clusters,iteration)\n",
    "print(f\"Compared between initial and iteration {iteration}\")\n",
    "\n",
    "fig, (ax1, ax2) = plt.subplots(2)\n",
    "for i in range(len(points)):\n",
    "    ax1.scatter(points[i][0],points[i][1],color=\"blue\")\n",
    "for i in range(len(clusters)):\n",
    "    ax1.scatter(clusters_init[i][0],clusters_init[i][1],color=color[i],marker = \"*\")\n",
    "\n",
    "\n",
    "\n",
    "for i in range(len(points)):\n",
    "    ax2.scatter(points[i][0],points[i][1],color=color[group[i]])\n",
    "for i in range(len(clusters)):\n",
    "    ax2.scatter(clusters_res[i][0],clusters_res[i][1],color=color[i],marker = \"*\")\n",
    "plt.xlabel(\"x\")\n",
    "plt.ylabel(\"y\")\n",
    "# point group is the group of cluster for each point\n",
    "# the numpy array below describe the current coordinate for each cluster\n",
    "# plotting describe the original and after iteration 5"
   ]
  },
  {
   "cell_type": "markdown",
   "metadata": {},
   "source": [
    "# T2"
   ]
  },
  {
   "cell_type": "code",
   "execution_count": 7,
   "metadata": {},
   "outputs": [
    {
     "name": "stdout",
     "output_type": "stream",
     "text": [
      "point group : [1, 1, 1, 1, 1, 0, 0, 2]\n",
      "[[-2.5 -3.5]\n",
      " [ 4.2  4.4]\n",
      " [-7.  -7. ]]\n",
      "point group : [1, 1, 1, 1, 1, 0, 0, 2]\n",
      "[[-2.5 -3.5]\n",
      " [ 4.2  4.4]\n",
      " [-7.  -7. ]]\n",
      "point group : [1, 1, 1, 1, 1, 0, 0, 2]\n",
      "[[-2.5 -3.5]\n",
      " [ 4.2  4.4]\n",
      " [-7.  -7. ]]\n",
      "point group : [1, 1, 1, 1, 1, 0, 0, 2]\n",
      "[[-2.5 -3.5]\n",
      " [ 4.2  4.4]\n",
      " [-7.  -7. ]]\n",
      "point group : [1, 1, 1, 1, 1, 0, 0, 2]\n",
      "[[-2.5 -3.5]\n",
      " [ 4.2  4.4]\n",
      " [-7.  -7. ]]\n",
      "Compared between initial and iteration 5\n"
     ]
    },
    {
     "data": {
      "text/plain": [
       "Text(0, 0.5, 'y')"
      ]
     },
     "execution_count": 7,
     "metadata": {},
     "output_type": "execute_result"
    },
    {
     "data": {
      "image/png": "[encoded data removed]",
      "text/plain": [
       "<Figure size 432x288 with 2 Axes>"
      ]
     },
     "metadata": {
      "needs_background": "light"
     },
     "output_type": "display_data"
    }
   ],
   "source": [
    "import copy\n",
    "    \n",
    "iteration = 5\n",
    "clusters = np.array([[-3,-3],[2,2],[-7,-7]],dtype=float)\n",
    "clusters_init = copy.deepcopy(clusters)\n",
    "\n",
    "clusters_res, group = k_means_grouping(points,clusters,iteration)\n",
    "print(f\"Compared between initial and iteration {iteration}\")\n",
    "\n",
    "fig, (ax1, ax2) = plt.subplots(2)\n",
    "for i in range(len(points)):\n",
    "    ax1.scatter(points[i][0],points[i][1],color=\"blue\")\n",
    "for i in range(len(clusters)):\n",
    "    ax1.scatter(clusters_init[i][0],clusters_init[i][1],color=color[i],marker = \"*\")\n",
    "\n",
    "\n",
    "for i in range(len(points)):\n",
    "    ax2.scatter(points[i][0],points[i][1],color=color[group[i]])\n",
    "for i in range(len(clusters)):\n",
    "    ax2.scatter(clusters_res[i][0],clusters_res[i][1],color=color[i],marker = \"*\")\n",
    "plt.xlabel(\"x\")\n",
    "plt.ylabel(\"y\")\n",
    "# point group is the group of cluster for each point\n",
    "# the numpy array below describe the current coordinate for each cluster\n",
    "# plotting describe the original and after iteration 5"
   ]
  },
  {
   "cell_type": "markdown",
   "metadata": {},
   "source": [
    "# T3"
   ]
  },
  {
   "cell_type": "code",
   "execution_count": null,
   "metadata": {},
   "outputs": [],
   "source": [
    "\"\"\"\n",
    "from my opinion the T1 is better than T2 because the clusters start around the middle of data. the T2 one of cluster (-7,-7)\n",
    "start too far to other point then this cluster has only one point. However we should try different starting point.\n",
    "\"\"\""
   ]
  },
  {
   "cell_type": "markdown",
   "metadata": {},
   "source": [
    "# OT1"
   ]
  },
  {
   "cell_type": "code",
   "execution_count": 25,
   "metadata": {},
   "outputs": [
    {
     "name": "stdout",
     "output_type": "stream",
     "text": [
      "point group : [1, 3, 1, 3, 3, 2, 0, 2]\n",
      "[[-2.  -4. ]\n",
      " [ 1.5  2. ]\n",
      " [-5.  -5. ]\n",
      " [ 6.   6. ]]\n",
      "point group : [1, 1, 1, 3, 3, 0, 0, 2]\n",
      "[[-2.5        -3.5       ]\n",
      " [ 2.          2.33333333]\n",
      " [-7.         -7.        ]\n",
      " [ 7.5         7.5       ]]\n",
      "point group : [1, 1, 1, 3, 3, 0, 0, 2]\n",
      "[[-2.5        -3.5       ]\n",
      " [ 2.          2.33333333]\n",
      " [-7.         -7.        ]\n",
      " [ 7.5         7.5       ]]\n",
      "point group : [1, 1, 1, 3, 3, 0, 0, 2]\n",
      "[[-2.5        -3.5       ]\n",
      " [ 2.          2.33333333]\n",
      " [-7.         -7.        ]\n",
      " [ 7.5         7.5       ]]\n",
      "point group : [1, 1, 1, 3, 3, 0, 0, 2]\n",
      "[[-2.5        -3.5       ]\n",
      " [ 2.          2.33333333]\n",
      " [-7.         -7.        ]\n",
      " [ 7.5         7.5       ]]\n",
      "Compared between initial and iteration 5\n"
     ]
    },
    {
     "data": {
      "text/plain": [
       "Text(0, 0.5, 'y')"
      ]
     },
     "execution_count": 25,
     "metadata": {},
     "output_type": "execute_result"
    },
    {
     "data": {
      "image/png": "[encoded data removed]",
      "text/plain": [
       "<Figure size 432x288 with 2 Axes>"
      ]
     },
     "metadata": {
      "needs_background": "light"
     },
     "output_type": "display_data"
    }
   ],
   "source": [
    "# try K=4\n",
    "import copy\n",
    "    \n",
    "iteration = 5\n",
    "clusters = np.array([[-2,-4],[2,2],[-3,-3],[3,3]],dtype=float)\n",
    "clusters_init = copy.deepcopy(clusters)\n",
    "\n",
    "clusters_res, group = k_means_grouping(points,clusters,iteration)\n",
    "print(f\"Compared between initial and iteration {iteration}\")\n",
    "\n",
    "fig, (ax1, ax2) = plt.subplots(2)\n",
    "for i in range(len(points)):\n",
    "    ax1.scatter(points[i][0],points[i][1],color=\"blue\")\n",
    "for i in range(len(clusters)):\n",
    "    ax1.scatter(clusters_init[i][0],clusters_init[i][1],color=color[i],marker = \"*\")\n",
    "\n",
    "\n",
    "\n",
    "for i in range(len(points)):\n",
    "    ax2.scatter(points[i][0],points[i][1],color=color[group[i]])\n",
    "for i in range(len(clusters)):\n",
    "    ax2.scatter(clusters_res[i][0],clusters_res[i][1],color=color[i],marker = \"*\")\n",
    "plt.xlabel(\"x\")\n",
    "plt.ylabel(\"y\")\n",
    "# point group is the group of cluster for each point\n",
    "# the numpy array below describe the current coordinate for each cluster\n",
    "# plotting describe the original and after iteration 5"
   ]
  },
  {
   "cell_type": "code",
   "execution_count": null,
   "metadata": {},
   "outputs": [],
   "source": [
    "\"\"\"\n",
    "from my opinion, K=4 is the best suit for this data because distance between data and centroid are lower than other K \n",
    "(measure from eye). However the starting point should be optimized to cluster correctly\n",
    "\"\"\""
   ]
  },
  {
   "cell_type": "code",
   "execution_count": null,
   "metadata": {},
   "outputs": [],
   "source": []
  }
 ],
 "metadata": {
  "kernelspec": {
   "display_name": "Python 3",
   "language": "python",
   "name": "python3"
  },
  "language_info": {
   "codemirror_mode": {
    "name": "ipython",
    "version": 3
   },
   "file_extension": ".py",
   "mimetype": "text/x-python",
   "name": "python",
   "nbconvert_exporter": "python",
   "pygments_lexer": "ipython3",
   "version": "3.8.3"
  }
 },
 "nbformat": 4,
 "nbformat_minor": 4
}
